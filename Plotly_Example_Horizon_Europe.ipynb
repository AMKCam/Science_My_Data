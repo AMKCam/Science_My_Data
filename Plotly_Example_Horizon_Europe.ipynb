{
 "cells": [
  {
   "cell_type": "markdown",
   "id": "2ad67e5e",
   "metadata": {},
   "source": [
    "# Getting the Most Out of Plotly Worked Example"
   ]
  },
  {
   "cell_type": "markdown",
   "id": "0c8d83b9",
   "metadata": {},
   "source": [
    "Hello! This workbook is intended to teach you how to use plotly. It is not an extensive guide, rather it aims to teach you how to make basic and beautiful plots with whatever data you have at hand. We use the data from the United Kingdom Research Institute (UKRI) which can be found here: https://gtr.ukri.org/. I have filtered active projects funded by the Horizon Europe Guarantee and downloaded the result as a csv. For those new to Plotly, an extensive online guide is available: https://plotly.com/. Let's get started!"
   ]
  },
  {
   "cell_type": "markdown",
   "id": "8bf26ab6",
   "metadata": {},
   "source": [
    "### What you Need to Run this Notebook - Optional Downloads"
   ]
  },
  {
   "cell_type": "code",
   "execution_count": null,
   "id": "3c5483e1",
   "metadata": {},
   "outputs": [],
   "source": [
    "# Pandas install\n",
    "#pip install pandas==1.5.3\n",
    "\n",
    "# Plotly install\n",
    "#pip install plotly==5.18.0"
   ]
  },
  {
   "cell_type": "markdown",
   "id": "f12be92d",
   "metadata": {},
   "source": [
    "### Import Modules"
   ]
  },
  {
   "cell_type": "code",
   "execution_count": null,
   "id": "717466e1",
   "metadata": {},
   "outputs": [],
   "source": [
    "import pandas as pd\n",
    "import plotly.express as px\n",
    "import plotly.graph_objects as go"
   ]
  },
  {
   "cell_type": "markdown",
   "id": "1a2e5e6a",
   "metadata": {},
   "source": [
    "### What Does This Data Show?"
   ]
  },
  {
   "cell_type": "markdown",
   "id": "74446621",
   "metadata": {},
   "source": [
    "Let's first read in our data and take a look!"
   ]
  },
  {
   "cell_type": "code",
   "execution_count": null,
   "id": "0750a020",
   "metadata": {},
   "outputs": [],
   "source": [
    "data = pd.read_csv(\"Horizon_Europe_Example.csv\")"
   ]
  },
  {
   "cell_type": "code",
   "execution_count": null,
   "id": "8d6e25b4",
   "metadata": {},
   "outputs": [],
   "source": [
    "# Use shape to find the number of rows and columns\n",
    "data.shape"
   ]
  },
  {
   "cell_type": "markdown",
   "id": "cf86798a",
   "metadata": {},
   "source": [
    "So we have 3593 rows with 25 columns! Not all of these columns are terribly helpful - let's look at them in more detail."
   ]
  },
  {
   "cell_type": "code",
   "execution_count": null,
   "id": "1aca141b",
   "metadata": {},
   "outputs": [],
   "source": [
    "# Use columns to find all the column names\n",
    "data.columns"
   ]
  },
  {
   "cell_type": "markdown",
   "id": "0439750e",
   "metadata": {},
   "source": [
    "<p>Let's go over in more detail what all of these columns are and whether or not we will find them useful for our exericise...<p>\n",
    "\n",
    "<p><strong>FundingOrgName</strong>: the funding organisation (this will be 'Horizon Europe Guarantee' as that is what I downloaded!)<br>\n",
    "\n",
    "<strong>ProjectReference</strong>: the reference (unique identifier) for the project (not terribly useful unless we want to pull out a specific project)<br>\n",
    "\n",
    "<strong>LeadROName</strong>: this will be the lead organisation name for the project (potentially interesting)<br>\n",
    "\n",
    "<strong>Department</strong>: the department in the lead organisation (if applicable) (may be potentially interesting for lead organisations which have departments)<br>\n",
    "\n",
    "<strong>PISurname</strong>: the surname of the Principal Investigator (PI) in charge of delivering the project (potentially interesting)<br>\n",
    "\n",
    "<strong>PIFirstName</strong>: the first name of the Principal Investigator (PI) in charge of delivering the project (potentially interesting)<br>\n",
    "\n",
    "<strong>PIOtherNames</strong>: other names of the Principal Investigator (PI) in charge of delivering the project (if applicable) (unlikely to be interesting)<br>\n",
    "\n",
    "<strong>PI ORCID iD</strong>: the ORCID ID (https://orcid.org/) of the Principal Investigator (PI) in charge of delivering the project (might be interesting for further work)<br>\n",
    "\n",
    "<strong>StudentSurname</strong>: the surname of the student attached to the project (if applicable) (unlikely to be interesting unless we look at types of funding which specifically cover students)<br>\n",
    "\n",
    "<strong>StudentFirstName</strong>: the first name of the student attached to the project (if applicable) (unlikely to be interesting unless we look at types of funding which specifically cover students)<br>\n",
    "\n",
    "<strong>Student ORCID iD</strong>: the ORCID ID (https://orcid.org/) of the student attached to the project (if applicable) (unlikely to be interesting unless we look at types of funding which specifically cover students)<br>\n",
    "\n",
    "<strong>Title</strong>: the title of the project (might be useful for language processing exercise!)<br>\n",
    "\n",
    "<strong>StartDate</strong>: when the funding started for the project (potentially interesting)<br>\n",
    "\n",
    "<strong>EndDate</strong>: when the funding ended for the project (not useful as I downloaded actively funded projects!)<br>\n",
    "\n",
    "<strong>AwardPounds</strong>: the amount of funding awarded for the project (definetly interested in this!)<br>\n",
    "\n",
    "<strong>ExpenditurePounds</strong>: how much money was spent delivering the project (not useful as these are active projects!)<br>\n",
    "\n",
    "<strong>Region</strong>: in which region the project is based (should be tied to where the lead organisation is based)<br>\n",
    "\n",
    "<strong>Status</strong>: active or closed (not useful as they should all be active!)<br>\n",
    "\n",
    "<strong>GTRProjectUrl</strong>: the Url for the project (might be useful if you wish to do a bit of web-scraping)<br>\n",
    "\n",
    "<strong>FundingOrgID</strong>: the unique identifier for the funding organisation (should all be the same as they are all funded by the 'Horizon Europe Guarantee'!)<br>\n",
    "\n",
    "<strong>LeadROId</strong>: the unique identifier to the lead organisation (might be useful if you don't want to use the name)<br>\n",
    "\n",
    "<strong>PIId</strong>: the unique identifier for the Principal Investigator (PI) in charge of delivering the project (might be useful if you don't want to use the name, or there might be multiple people with the same name)<p>"
   ]
  },
  {
   "cell_type": "code",
   "execution_count": null,
   "id": "51f9bd8f",
   "metadata": {},
   "outputs": [],
   "source": [
    "# Let's see a quick glimpse of all the columns using info\n",
    "data.info()"
   ]
  },
  {
   "cell_type": "markdown",
   "id": "3dd9e0e9",
   "metadata": {},
   "source": [
    "We can see that 'PIOtherNames', 'StudentSurname', 'StudentFirstName', 'StudentOtherNames', 'Student ORCID iD', and 'ExpenditurePounds' are all full of nulls! These definetly won't be useful. This is as expected as explained above on what the columns are refering to."
   ]
  },
  {
   "cell_type": "code",
   "execution_count": null,
   "id": "59e156b8",
   "metadata": {},
   "outputs": [],
   "source": [
    "# Let's take a peak at the only column with numeric data - AwardPounds - using describe\n",
    "data['AwardPounds'].describe()"
   ]
  },
  {
   "cell_type": "markdown",
   "id": "920c3242",
   "metadata": {},
   "source": [
    "We have a mean award amount of £525,558.3 with a minimum award amount of £0 and a maximum award amount of £1,601,813. The standard deviation is £724,219.3. Quite a spread!"
   ]
  },
  {
   "cell_type": "markdown",
   "id": "e1bec5ac",
   "metadata": {},
   "source": [
    "### Let's Get Plotting!"
   ]
  },
  {
   "cell_type": "markdown",
   "id": "15553ae6",
   "metadata": {},
   "source": [
    "I now want to plot the awarded amount by project category. A boxplot is a natural choice to see the spread of the data we just used pandas to describe."
   ]
  },
  {
   "cell_type": "code",
   "execution_count": null,
   "id": "42ec0161",
   "metadata": {},
   "outputs": [],
   "source": [
    "# Plot project category by award amount\n",
    "fig = px.box(data,x=\"ProjectCategory\",y=\"AwardPounds\")\n",
    "fig.show()"
   ]
  },
  {
   "cell_type": "markdown",
   "id": "c9d28977",
   "metadata": {},
   "source": [
    "We can immediately see that there are three project categories: EU-Funded, Fellowship, and Research Grant. While the data looks fine, the plot looks awful! You definetly wouldn't want to show this to any stakeholders. Let's customise our plot a bit more, we'll change the x- and y-axis labels to something more friendly, add a title and make the background a little nicer."
   ]
  },
  {
   "cell_type": "markdown",
   "id": "8c4cd7b8",
   "metadata": {},
   "source": [
    "> <strong>Pro-tip</strong>, use Plotly's colour pallete to make your plot shine!<br>\n",
    "https://plotly.com/python/discrete-color/"
   ]
  },
  {
   "cell_type": "code",
   "execution_count": null,
   "id": "127a3763",
   "metadata": {},
   "outputs": [],
   "source": [
    "# Check colour pallete - useful for deciding on your colours\n",
    "# Here I have gone for the Pastel pallete\n",
    "print(px.colors.qualitative.Pastel)"
   ]
  },
  {
   "cell_type": "code",
   "execution_count": null,
   "id": "2e3ed5f7",
   "metadata": {},
   "outputs": [],
   "source": [
    "# Plot project category by award amount - customised for stakeholder presentation\n",
    "fig = px.box(data,x=\"ProjectCategory\",y=\"AwardPounds\",\n",
    "            hover_data=[\"Region\"],color=\"ProjectCategory\",\n",
    "            color_discrete_map= {\"EU-Funded\":\"rgb(102, 197, 204)\",\"Fellowship\":\"rgb(246, 207, 113)\",\n",
    "                                 \"Research Grant\":\"rgb(248, 156, 116)\"}) # add our colours!\n",
    "# Add a title and make the background white\n",
    "fig.update_layout(title_text=\"EU-Funded projects take in the majority of the funding\",font=dict(size=14),\n",
    "                 paper_bgcolor='white',\n",
    "                 plot_bgcolor='white',\n",
    "                 title_x=0.1,\n",
    "                 showlegend=False)\n",
    "# Add in an x-axis label\n",
    "fig.update_xaxes(title=\"Project Category\",\n",
    "    showline=True,\n",
    "    linecolor='black',\n",
    "    gridcolor='lightgrey',\n",
    "    showgrid=False\n",
    ")\n",
    "# Add in a y-axis label\n",
    "fig.update_yaxes(title=\"Awarded Amount (£)\",\n",
    "    showline=True,\n",
    "    linecolor='black',\n",
    "    gridcolor='lightgrey',\n",
    "    showgrid=True\n",
    ")\n",
    "fig.show()"
   ]
  },
  {
   "cell_type": "markdown",
   "id": "0bfe20bc",
   "metadata": {},
   "source": [
    "As you can see from the plot, EU-Funded projects take in the majority of the funding (this shouldn't be surprising given the nature of the funding award!). Our plot is now a nice background colour, and I've added custom category colours to make it stand out."
   ]
  },
  {
   "cell_type": "markdown",
   "id": "62de295c",
   "metadata": {},
   "source": [
    "You may have noticed that I've added a hover data to show Region. While using hover for exploring data is nice, we can go one step further and make it more obvious what the data is showing using our color option..."
   ]
  },
  {
   "cell_type": "code",
   "execution_count": null,
   "id": "0997361d",
   "metadata": {},
   "outputs": [],
   "source": [
    "# Plot project category by award amount - what does splitting by region show?\n",
    "fig = px.box(data,x=\"ProjectCategory\",y=\"AwardPounds\",\n",
    "            hover_data=[\"Region\"],color=\"Region\")\n",
    "# Add a title and make the background white\n",
    "fig.update_layout(title_text=\"EU-Funded projects take in the majority of the funding\",font=dict(size=14),\n",
    "                 paper_bgcolor='white',\n",
    "                 plot_bgcolor='white',\n",
    "                 title_x=0.1)\n",
    "# Add in an x-axis label\n",
    "fig.update_xaxes(title=\"Project Category\",\n",
    "    showline=True,\n",
    "    linecolor='black',\n",
    "    gridcolor='lightgrey',\n",
    "    showgrid=False\n",
    ")\n",
    "# Add in a y-axis label\n",
    "fig.update_yaxes(title=\"Awarded Amount (£)\",\n",
    "    showline=True,\n",
    "    linecolor='black',\n",
    "    gridcolor='lightgrey',\n",
    "    showgrid=True\n",
    ")\n",
    "fig.show()"
   ]
  },
  {
   "cell_type": "markdown",
   "id": "922604db",
   "metadata": {},
   "source": [
    "Yikes that's a lot of regions! 11 categories makes it hard for people to interpret this plot easily. Let's make it simpler and combine regions."
   ]
  },
  {
   "cell_type": "markdown",
   "id": "e5784cba",
   "metadata": {},
   "source": [
    "> <strong>Pro-tip</strong>, if you want to split your data by a specific category don't overwhelm the viewer with too many options. Reduce and combine when you can!"
   ]
  },
  {
   "cell_type": "markdown",
   "id": "69765bbb",
   "metadata": {},
   "source": [
    "#### Applying a Broad Region to our data"
   ]
  },
  {
   "cell_type": "code",
   "execution_count": null,
   "id": "99673342",
   "metadata": {},
   "outputs": [],
   "source": [
    "# Apply broader region criteria\n",
    "def region(string):\n",
    "    if string == \"London\":\n",
    "        region=\"London\"\n",
    "    elif string == \"East Midlands\":\n",
    "        region = \"Midlands\"\n",
    "    elif string == \"West Midlands\":\n",
    "        region = \"Midlands\"\n",
    "    elif string == \"North West\":\n",
    "        region = \"North\"\n",
    "    elif string == \"North East\":\n",
    "        region = \"North\"\n",
    "    elif string == \"South East\":\n",
    "        region = \"South\"\n",
    "    elif string == \"South West\":\n",
    "        region = \"South\"\n",
    "    elif string == \"East of England\":\n",
    "        region = \"East\"\n",
    "    elif string == \"Yorkshire and The Humber\":\n",
    "        region = \"North\"\n",
    "    elif string == \"Scotland\":\n",
    "        region = \"Scotland, Wales & Northern Ireland\"\n",
    "    elif string == \"Wales\":\n",
    "        region = \"Scotland, Wales & Northern Ireland\"\n",
    "    elif string == \"Northern Ireland\":\n",
    "        region = \"Scotland, Wales & Northern Ireland\"\n",
    "    else:\n",
    "        region = \"Unknown\"\n",
    "    return region"
   ]
  },
  {
   "cell_type": "code",
   "execution_count": null,
   "id": "17909fec",
   "metadata": {},
   "outputs": [],
   "source": [
    "# Make a new column with our broad region\n",
    "data[\"Broad Region\"] = data[\"Region\"].apply(region)"
   ]
  },
  {
   "cell_type": "code",
   "execution_count": null,
   "id": "da2dd929",
   "metadata": {},
   "outputs": [],
   "source": [
    "# Plot project category by award amount, coloured by broad region\n",
    "fig = px.box(data,x=\"ProjectCategory\",y=\"AwardPounds\",color=\"Broad Region\",\n",
    "                 hover_data=[\"LeadROName\",\"PISurname\",\"PIFirstName\"],\n",
    "            color_discrete_map= {\"London\":\"rgb(102, 197, 204)\",\"Midlands\":\"rgb(246, 207, 113)\",\n",
    "                                 \"North\":\"rgb(248, 156, 116)\",\n",
    "                                 \"Scotland, Wales & Northern Ireland\":\"rgb(220, 176, 242)\",\n",
    "                                \"South\":\"rgb(135, 197, 95)\",\"East\":\"rgb(158, 185, 243)\"}, # add colour!\n",
    "             # Let's add a nice order to these categories\n",
    "            category_orders={\"Broad Region\":[\"London\",\"North\",\"South\",\"East\",\"Midlands\",\n",
    "                                                \"Scotland, Wales & Northern Ireland\",\"Unknown\"],\n",
    "                             # Here we want to make EU-Funded stand out a bit more by placing it in the middle\n",
    "                            \"ProjectCategory\":[\"Research Grant\",\"EU-Funded\",\"Fellowship\"]},\n",
    "            # add in figure dimensions so it's not too squished! \n",
    "            width=900, height=500) \n",
    "# Describe your data in the title - can you see the change from the last plot?\n",
    "fig.update_layout(title_text=\"Regions are equally represented among the different funding types\",font=dict(size=14),\n",
    "                 paper_bgcolor='white',\n",
    "                 plot_bgcolor='white',\n",
    "                 title_x=0.03)\n",
    "# Our x-axis\n",
    "fig.update_xaxes(title=\"Project Category\",\n",
    "    showline=True,\n",
    "    linecolor='black',\n",
    "    gridcolor='lightgrey',\n",
    "    showgrid=False\n",
    ")\n",
    "# Our y-axis\n",
    "fig.update_yaxes(title=\"Awarded Amount (£)\",\n",
    "    showline=True,\n",
    "    linecolor='black',\n",
    "    gridcolor='lightgrey',\n",
    "    showgrid=True\n",
    ")\n",
    "fig.show()"
   ]
  },
  {
   "cell_type": "markdown",
   "id": "354e7a00",
   "metadata": {},
   "source": [
    "> <strong>Pro-tip</strong>, don't forget to save your figure!"
   ]
  },
  {
   "cell_type": "code",
   "execution_count": null,
   "id": "9cc5c53d",
   "metadata": {},
   "outputs": [],
   "source": [
    "# Save the figure in the image folder\n",
    "fig.write_image(\"images/horizon_funding_byregion.png\",scale=3)"
   ]
  },
  {
   "cell_type": "markdown",
   "id": "6df08d1f",
   "metadata": {},
   "source": [
    "As you can see, having fewer regions makes this figure much easier to interpret! I have also placed the EU-Funded category in the middle of the plot so that its stands out more. You may have also noticed that my title has changed - by displaying the data by region we can clearly see that no single region gets a lot more funding than other regions. I have included some extra hover data, which is always fun to play around with. As you can see with hover data, it appears companies get a big chunk of funding compared to universities. We are going to explore this in our next plot!"
   ]
  },
  {
   "cell_type": "markdown",
   "id": "d44a440c",
   "metadata": {},
   "source": [
    "### Let's explore top funders!"
   ]
  },
  {
   "cell_type": "code",
   "execution_count": null,
   "id": "d694787c",
   "metadata": {},
   "outputs": [],
   "source": [
    "# first we need to get the relevant data - I've chosen those receiving more than £4 million pounds!\n",
    "top_funders = data.loc[data[\"AwardPounds\"] >= 4000000]"
   ]
  },
  {
   "cell_type": "code",
   "execution_count": null,
   "id": "2846bd5d",
   "metadata": {},
   "outputs": [],
   "source": [
    "# We can see from shape that we have 11 organisations which receive more than £4 million pounds in the \n",
    "# EU-Funded category\n",
    "top_funders.shape"
   ]
  },
  {
   "cell_type": "code",
   "execution_count": null,
   "id": "fa00cf80",
   "metadata": {},
   "outputs": [],
   "source": [
    "# Let's sort the data for our next plot!\n",
    "top_funders_sorted = top_funders.sort_values(by=[\"AwardPounds\"],ascending=False)"
   ]
  },
  {
   "cell_type": "code",
   "execution_count": null,
   "id": "692f49e1",
   "metadata": {},
   "outputs": [],
   "source": [
    "# Plot top 11 organisations for award income\n",
    "fig2 = px.bar(top_funders_sorted,x=\"AwardPounds\",y=\"LeadROName\", text_auto='.3s',\n",
    "             color_discrete_sequence=[ 'rgb(179,205,227)'])\n",
    "# Add a title and make the background white\n",
    "fig2.update_layout(title_text=\"The Top 10 Organisations Take in Almost £90 Million Combined\",font=dict(size=14),\n",
    "                 paper_bgcolor='rgba(0,0,0,0)',\n",
    "                 plot_bgcolor='rgba(0,0,0,0)',\n",
    "                 title_x=0.5, # adjust this value to make your title looked centered\n",
    "                  barmode='stack',\n",
    "                  yaxis={'categoryorder':'total ascending'})\n",
    "# Add x-axis title\n",
    "fig2.update_xaxes(title=\"Awarded Amount (£)\",\n",
    "    showline=True,\n",
    "    linecolor='black',\n",
    "    gridcolor='lightgrey',\n",
    "    showgrid=False\n",
    ")\n",
    "# Add y-axis title\n",
    "fig2.update_yaxes(title=\"Organisation\",\n",
    "    showline=True,\n",
    "    linecolor='black',\n",
    "    gridcolor='lightgrey',\n",
    "    showgrid=True)               \n",
    "fig2.show()"
   ]
  },
  {
   "cell_type": "markdown",
   "id": "3ee719b4",
   "metadata": {},
   "source": [
    "Wow! You can see that Rolls-Royce acually got two awards! One for £12.4 million and another for £12.3 million! The University of Nottingham isn't doing too badly either at £4.14 million. I've plotted this bar chart with the highest amount on top - visually doing this type of chart should be either from smallest to highest or highest to smallest. Again, make your title snazzy and to the point."
   ]
  },
  {
   "cell_type": "markdown",
   "id": "0812f9ec",
   "metadata": {},
   "source": [
    "I hope you've learnt how to make the most of plotly with this data. Feel free to play around below with your own custom and stylised plots."
   ]
  },
  {
   "cell_type": "markdown",
   "id": "6176bd81",
   "metadata": {},
   "source": [
    "> <strong>Pro-tip</strong>, Remember, practice goes a long way!"
   ]
  },
  {
   "cell_type": "code",
   "execution_count": null,
   "id": "cf3d1c35",
   "metadata": {},
   "outputs": [],
   "source": [
    "# add your own plots below..."
   ]
  },
  {
   "cell_type": "code",
   "execution_count": null,
   "id": "8c858a28",
   "metadata": {},
   "outputs": [],
   "source": []
  }
 ],
 "metadata": {
  "kernelspec": {
   "display_name": "Python 3 (ipykernel)",
   "language": "python",
   "name": "python3"
  },
  "language_info": {
   "codemirror_mode": {
    "name": "ipython",
    "version": 3
   },
   "file_extension": ".py",
   "mimetype": "text/x-python",
   "name": "python",
   "nbconvert_exporter": "python",
   "pygments_lexer": "ipython3",
   "version": "3.10.12"
  }
 },
 "nbformat": 4,
 "nbformat_minor": 5
}
